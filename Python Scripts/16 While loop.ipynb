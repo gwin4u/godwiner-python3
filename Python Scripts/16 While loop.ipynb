{
 "cells": [
  {
   "cell_type": "markdown",
   "metadata": {},
   "source": [
    "# While Loop"
   ]
  },
  {
   "cell_type": "code",
   "execution_count": 2,
   "metadata": {},
   "outputs": [
    {
     "name": "stdout",
     "output_type": "stream",
     "text": [
      "The current value of a is 0\n",
      "The current value of a is 1\n",
      "The current value of a is 2\n",
      "The current value of a is 3\n",
      "The current value of a is 4\n",
      "The current value of a is 5\n"
     ]
    }
   ],
   "source": [
    "# while loop performes an action while conditions are true\n",
    "\n",
    "a = 0\n",
    "while a < 6:\n",
    "    print(f'The current value of a is {a}')\n",
    "    a = a + 1"
   ]
  },
  {
   "cell_type": "code",
   "execution_count": 2,
   "metadata": {},
   "outputs": [
    {
     "ename": "SyntaxError",
     "evalue": "unexpected EOF while parsing (<ipython-input-2-ee7882c506c6>, line 4)",
     "output_type": "error",
     "traceback": [
      "\u001b[1;36m  File \u001b[1;32m\"<ipython-input-2-ee7882c506c6>\"\u001b[1;36m, line \u001b[1;32m4\u001b[0m\n\u001b[1;33m    # print(f'The current value is less than one {b}')\u001b[0m\n\u001b[1;37m                                                      ^\u001b[0m\n\u001b[1;31mSyntaxError\u001b[0m\u001b[1;31m:\u001b[0m unexpected EOF while parsing\n"
     ]
    }
   ],
   "source": [
    "# careful pls; infinite loop. Restart the kernel to stop the loop\n",
    "b = 0\n",
    "while b < 1:\n",
    "   # print(f'The current value is less than one {b}')"
   ]
  },
  {
   "cell_type": "code",
   "execution_count": 10,
   "metadata": {},
   "outputs": [
    {
     "name": "stdout",
     "output_type": "stream",
     "text": [
      "The current value is 0\n",
      "The current value is 1\n",
      "The current value is 2\n",
      "The current value is 3\n",
      "The current value is 4\n",
      "The current value is not less than 5\n"
     ]
    }
   ],
   "source": [
    "# else:\n",
    "a = 0\n",
    "while a < 5:\n",
    "    print(f'The current value is {a}')\n",
    "    \n",
    "    a +=1\n",
    "else:\n",
    "    print(f'The current value is not less than {a}')"
   ]
  },
  {
   "cell_type": "code",
   "execution_count": 11,
   "metadata": {},
   "outputs": [
    {
     "name": "stdout",
     "output_type": "stream",
     "text": [
      "The current value is not less than 5\n"
     ]
    }
   ],
   "source": [
    "# else:\n",
    "a = 5\n",
    "while a < 5:\n",
    "    print(f'The current value is {a}')\n",
    "    \n",
    "    a +=1\n",
    "else:\n",
    "    print(f'The current value is not less than {a}')"
   ]
  },
  {
   "cell_type": "markdown",
   "metadata": {},
   "source": [
    "# Pass keyword"
   ]
  },
  {
   "cell_type": "code",
   "execution_count": 17,
   "metadata": {},
   "outputs": [
    {
     "name": "stdout",
     "output_type": "stream",
     "text": [
      "I will code statement letter\n"
     ]
    }
   ],
   "source": [
    "list_1 = [4,5,6]\n",
    "for n in list_1:\n",
    "    # no statement yet\n",
    "    pass\n",
    "print('I will code statement letter')\n"
   ]
  },
  {
   "cell_type": "markdown",
   "metadata": {},
   "source": [
    "# Continue keyword"
   ]
  },
  {
   "cell_type": "code",
   "execution_count": 44,
   "metadata": {},
   "outputs": [
    {
     "name": "stdout",
     "output_type": "stream",
     "text": [
      "a\n",
      "l\n",
      "e\n",
      "e\n",
      "a\n",
      "r\n"
     ]
    }
   ],
   "source": [
    "string_1 = 'applepear'\n",
    "for n in string_1:\n",
    "    if n == \"p\":\n",
    "        continue\n",
    "    print(n)"
   ]
  },
  {
   "cell_type": "markdown",
   "metadata": {},
   "source": [
    "# Break keyword"
   ]
  },
  {
   "cell_type": "code",
   "execution_count": 49,
   "metadata": {},
   "outputs": [
    {
     "name": "stdout",
     "output_type": "stream",
     "text": [
      "a\n",
      "p\n",
      "p\n"
     ]
    }
   ],
   "source": [
    "for n in string_1:\n",
    "    if n =='l':\n",
    "        break        \n",
    "    print(n)"
   ]
  },
  {
   "cell_type": "code",
   "execution_count": 50,
   "metadata": {},
   "outputs": [
    {
     "name": "stdout",
     "output_type": "stream",
     "text": [
      "0\n",
      "1\n",
      "2\n",
      "3\n",
      "4\n",
      "5\n",
      "6\n",
      "7\n"
     ]
    }
   ],
   "source": [
    "p = 0\n",
    "while p < 8:\n",
    "    print(p)\n",
    "    p += 1\n",
    "    "
   ]
  },
  {
   "cell_type": "code",
   "execution_count": 53,
   "metadata": {},
   "outputs": [
    {
     "name": "stdout",
     "output_type": "stream",
     "text": [
      "0\n",
      "1\n",
      "2\n",
      "3\n",
      "4\n",
      "5\n"
     ]
    }
   ],
   "source": [
    "p = 0\n",
    "while p < 8:\n",
    "    if p > 5:\n",
    "        break\n",
    "    print(p)\n",
    "    p += 1"
   ]
  },
  {
   "cell_type": "code",
   "execution_count": null,
   "metadata": {},
   "outputs": [],
   "source": []
  }
 ],
 "metadata": {
  "kernelspec": {
   "display_name": "Python 3",
   "language": "python",
   "name": "python3"
  },
  "language_info": {
   "codemirror_mode": {
    "name": "ipython",
    "version": 3
   },
   "file_extension": ".py",
   "mimetype": "text/x-python",
   "name": "python",
   "nbconvert_exporter": "python",
   "pygments_lexer": "ipython3",
   "version": "3.7.6"
  }
 },
 "nbformat": 4,
 "nbformat_minor": 4
}
