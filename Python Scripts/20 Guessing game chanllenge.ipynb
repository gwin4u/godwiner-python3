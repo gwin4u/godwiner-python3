{
 "cells": [
  {
   "cell_type": "markdown",
   "metadata": {},
   "source": [
    "# Guessing Game Challenge¶\n"
   ]
  },
  {
   "cell_type": "markdown",
   "metadata": {},
   "source": [
    "Let's use while loops to create a guessing game.\n",
    "\n",
    "The Challenge:\n",
    "\n",
    "Write a program that picks a random integer from 1 to 100, and has players guess the number. The rules are:\n",
    "\n",
    "    1.If a player's guess is less than 1 or greater than 100, say \"OUT OF \n",
    "      BOUNDS\"\n",
    "    2.On a player's first turn, if their guess is\n",
    "       within 10 of the number, return \"WARM!\"\n",
    "       further than 10 away from the number, return \"COLD!\"\n",
    "    3.On all subsequent turns, if a guess is\n",
    "       closer to the number than the previous guess return \"WARMER!\"\n",
    "       farther from the number than the previous guess, return \"COLDER!\"\n",
    "    4.When the player's guess equals the number, tell them they've guessed \n",
    "       correctly and how many guesses it took!\n",
    "You can try this from scratch, or follow the steps outlined below. A separate Solution notebook has been provided. Good luck!"
   ]
  },
  {
   "cell_type": "code",
   "execution_count": 22,
   "metadata": {},
   "outputs": [
    {
     "name": "stdout",
     "output_type": "stream",
     "text": [
      "player_1 goes first\n",
      "player_1 Please guess a number from \"1\" to \"100\": d\n"
     ]
    },
    {
     "ename": "ValueError",
     "evalue": "invalid literal for int() with base 10: 'd'",
     "output_type": "error",
     "traceback": [
      "\u001b[1;31m---------------------------------------------------------------------------\u001b[0m",
      "\u001b[1;31mValueError\u001b[0m                                Traceback (most recent call last)",
      "\u001b[1;32m<ipython-input-22-3aeb3cff0298>\u001b[0m in \u001b[0;36m<module>\u001b[1;34m\u001b[0m\n\u001b[0;32m     13\u001b[0m     \u001b[1;31m#count_p2 == 0\u001b[0m\u001b[1;33m\u001b[0m\u001b[1;33m\u001b[0m\u001b[1;33m\u001b[0m\u001b[0m\n\u001b[0;32m     14\u001b[0m \u001b[0mguess_check\u001b[0m\u001b[1;33m=\u001b[0m\u001b[0mrandint\u001b[0m\u001b[1;33m(\u001b[0m\u001b[1;36m1\u001b[0m\u001b[1;33m,\u001b[0m\u001b[1;36m100\u001b[0m\u001b[1;33m)\u001b[0m\u001b[1;33m\u001b[0m\u001b[1;33m\u001b[0m\u001b[0m\n\u001b[1;32m---> 15\u001b[1;33m \u001b[0mguess\u001b[0m\u001b[1;33m=\u001b[0m \u001b[0mint\u001b[0m\u001b[1;33m(\u001b[0m\u001b[0minput\u001b[0m\u001b[1;33m(\u001b[0m\u001b[0mp\u001b[0m\u001b[1;33m+\u001b[0m\u001b[1;34m' Please guess a number from \"1\" to \"100\": '\u001b[0m\u001b[1;33m)\u001b[0m\u001b[1;33m)\u001b[0m\u001b[1;33m\u001b[0m\u001b[1;33m\u001b[0m\u001b[0m\n\u001b[0m\u001b[0;32m     16\u001b[0m \u001b[1;32mif\u001b[0m \u001b[0mguess\u001b[0m\u001b[1;33m==\u001b[0m\u001b[1;34m' '\u001b[0m\u001b[1;33m:\u001b[0m\u001b[1;33m\u001b[0m\u001b[1;33m\u001b[0m\u001b[0m\n\u001b[0;32m     17\u001b[0m     \u001b[1;32mpass\u001b[0m\u001b[1;33m\u001b[0m\u001b[1;33m\u001b[0m\u001b[0m\n",
      "\u001b[1;31mValueError\u001b[0m: invalid literal for int() with base 10: 'd'"
     ]
    }
   ],
   "source": [
    "from random import randint\n",
    "\n",
    "count_p1 = 0\n",
    "count_p2 = 0\n",
    "guess_lst= []\n",
    "player_turn = randint(1,2)\n",
    "if player_turn == 1:\n",
    "    print('player_1 goes first')\n",
    "    p = 'player_1' \n",
    "    #count_p1 == 0\n",
    "else:\n",
    "    print('player_2 goes first')\n",
    "    p = 'player_2' \n",
    "    #count_p2 == 0\n",
    "guess_check=randint(1,100)\n",
    "guess= int(input(p+' Please guess a number from \"1\" to \"100\": '))\n",
    "guess_lst.append(guess)\n",
    "if p =='player_1':\n",
    "    count_p1=1\n",
    "else:\n",
    "    count_p2=1\n",
    "if guess<1 or guess >100:\n",
    "    print('OUT OF BOUNDS!')\n",
    "elif guess == guess_check:\n",
    "    print(p+' you have guessed correctly '+p+' has won, Game Over!!!')\n",
    "    if p == 'player_1':\n",
    "        print(f'Player_1 has guessed {count_p1} times\\nplayer_2 has guessed {count_p2} times')\n",
    "    else:\n",
    "        print('Player_2 has guessed {} times\\nplayer_1 has guessed {} times'.format(count_p2,count_p1))\n",
    "elif (guess>guess_check and guess-guess_check<=10) or (guess_check>guess and guess_check-guess<=10):\n",
    "    print('Warm!')\n",
    "#elif (guess>guess_check and guess-guess_check>10) or (guess_check>guess and guess_check-guess>10):    \n",
    " #   print('Cold!')\n",
    "elif guess_check-guess>10 or guess-guess_check>10:\n",
    "        print('Cold')\n",
    "while guess!=guess_check:\n",
    "    if p == 'player_1':\n",
    "        p='player_2'\n",
    "    else:\n",
    "        p='player_1'\n",
    "    guess= int(input(p+' Please guess a number from \"1\" to \"100\": '))\n",
    "    guess_lst.append(guess)\n",
    "    if p=='player_1':\n",
    "        count_p1+=1\n",
    "    else:\n",
    "        count_p2+=1\n",
    "    \n",
    "    if guess<1 or guess >100:\n",
    "        print('OUT OF BOUNDS!')\n",
    "    elif guess == guess_check:\n",
    "        print(p+' you have guessed correctly '+p+' has won, Game Over!!!')\n",
    "        if p == 'player_1':\n",
    "            print(f'Player_1 has guessed {count_p1} times\\nplayer_2 has guessed {count_p2} times')\n",
    "        else:\n",
    "            print('Player_2 has guessed {} times\\nplayer_1 has guessed {} times'.format(count_p2,count_p1))\n",
    "    elif (guess>guess_check and guess-guess_check<=10) or (guess_check>guess and guess_check-guess<=10):\n",
    "        print('Warmer!')\n",
    "   # elif (guess>guess_check and guess-guess_check>10) or (guess_check>guess and guess_check-guess>10):    \n",
    "     #   print('Colder')\n",
    "    elif guess_check-guess>10 or guess-guess_check>10:\n",
    "        print('Colder')\n",
    "    "
   ]
  },
  {
   "cell_type": "code",
   "execution_count": 15,
   "metadata": {},
   "outputs": [
    {
     "name": "stdout",
     "output_type": "stream",
     "text": [
      "count_p1+count_p2 7\n"
     ]
    }
   ],
   "source": [
    "print(f'count_p1+count_p2 {count_p1}')"
   ]
  },
  {
   "cell_type": "code",
   "execution_count": null,
   "metadata": {},
   "outputs": [],
   "source": []
  }
 ],
 "metadata": {
  "kernelspec": {
   "display_name": "Python 3",
   "language": "python",
   "name": "python3"
  },
  "language_info": {
   "codemirror_mode": {
    "name": "ipython",
    "version": 3
   },
   "file_extension": ".py",
   "mimetype": "text/x-python",
   "name": "python",
   "nbconvert_exporter": "python",
   "pygments_lexer": "ipython3",
   "version": "3.7.6"
  }
 },
 "nbformat": 4,
 "nbformat_minor": 4
}
