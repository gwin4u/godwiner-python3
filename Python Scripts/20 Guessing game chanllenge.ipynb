{
 "cells": [
  {
   "cell_type": "markdown",
   "metadata": {},
   "source": [
    "# Guessing Game Challenge¶\n"
   ]
  },
  {
   "cell_type": "markdown",
   "metadata": {},
   "source": [
    "Let's use while loops to create a guessing game.\n",
    "\n",
    "The Challenge:\n",
    "\n",
    "Write a program that picks a random integer from 1 to 100, and has players guess the number. The rules are:\n",
    "\n",
    "    1.If a player's guess is less than 1 or greater than 100, say \"OUT OF \n",
    "      BOUNDS\"\n",
    "    2.On a player's first turn, if their guess is\n",
    "       within 10 of the number, return \"WARM!\"\n",
    "       further than 10 away from the number, return \"COLD!\"\n",
    "    3.On all subsequent turns, if a guess is\n",
    "       closer to the number than the previous guess return \"WARMER!\"\n",
    "       farther from the number than the previous guess, return \"COLDER!\"\n",
    "    4.When the player's guess equals the number, tell them they've guessed \n",
    "       correctly and how many guesses it took!\n"
   ]
  },
  {
   "cell_type": "code",
   "execution_count": 8,
   "metadata": {},
   "outputs": [
    {
     "name": "stdout",
     "output_type": "stream",
     "text": [
      "player_1 goes first\n",
      "player_1 Please guess a number from \"1\" to \"100\": 4\n",
      "Warm!\n",
      "player_2 Please guess a number from \"1\" to \"100\": 15\n",
      "Colder\n",
      "player_1 Please guess a number from \"1\" to \"100\": 54\n",
      "Colder\n",
      "player_2 Please guess a number from \"1\" to \"100\": 45\n",
      "Warmer!\n",
      "player_1 Please guess a number from \"1\" to \"100\": 5\n",
      "Warmer!\n",
      "player_2 Please guess a number from \"1\" to \"100\": 14\n",
      "Colder\n",
      "player_1 Please guess a number from \"1\" to \"100\": 13\n",
      "Warmer!\n",
      "player_2 Please guess a number from \"1\" to \"100\": 12\n",
      "Warmer!\n",
      "player_1 Please guess a number from \"1\" to \"100\": 8\n",
      "Warmer!\n",
      "player_2 Please guess a number from \"1\" to \"100\": 2\n",
      "Colder!\n",
      "player_1 Please guess a number from \"1\" to \"100\": 3\n",
      "Warmer!\n",
      "player_2 Please guess a number from \"1\" to \"100\": 9\n",
      "Warmer!\n",
      "player_1 Please guess a number from \"1\" to \"100\": 6\n",
      "Warmer!\n",
      "player_2 Please guess a number from \"1\" to \"100\": 10\n",
      "Colder\n",
      "player_1 Please guess a number from \"1\" to \"100\": 6\n",
      "Warmer!\n",
      "player_2 Please guess a number from \"1\" to \"100\": 8\n",
      "Warmer!\n",
      "player_1 Please guess a number from \"1\" to \"100\": 7\n",
      "player_1 you have guessed correctly player_1 has won, Game Over!!!\n",
      "Player_1 has guessed 9 times\n",
      "player_2 has guessed 8 times\n"
     ]
    }
   ],
   "source": [
    "from random import randint\n",
    "\n",
    "count_p1 = 0\n",
    "count_p2 = 0\n",
    "gs_lst= []\n",
    "player_turn = randint(1,2)\n",
    "if player_turn == 1:\n",
    "    print('player_1 goes first')\n",
    "    p = 'player_1' \n",
    "    \n",
    "else:\n",
    "    print('player_2 goes first')\n",
    "    p = 'player_2' \n",
    "guess_check=randint(1,100)\n",
    "guess= int(input(p+' Please guess a number from \"1\" to \"100\": '))\n",
    "gs_lst.append(guess)\n",
    "if p =='player_1':\n",
    "    count_p1=1\n",
    "else:\n",
    "    count_p2=1\n",
    "if guess<1 or guess >100:\n",
    "    print('OUT OF BOUNDS!')\n",
    "elif guess == guess_check:\n",
    "    print(p+' you have guessed correctly '+p+' has won, Game Over!!!')\n",
    "    if p == 'player_1':\n",
    "        print(f'Player_1 has guessed {count_p1} times\\nplayer_2 has guessed {count_p2} times')\n",
    "    else:\n",
    "        print('Player_2 has guessed {} times\\nplayer_1 has guessed {} times'.format(count_p2,count_p1))\n",
    "elif (guess>guess_check and guess-guess_check<=10) or (guess_check>guess and guess_check-guess<=10):\n",
    "    print('Warm!')\n",
    "\n",
    "elif guess_check-guess>10 or guess-guess_check>10:\n",
    "        print('Cold')\n",
    "while guess!=guess_check:\n",
    "    if p == 'player_1':\n",
    "        p='player_2'\n",
    "    else:\n",
    "        p='player_1'\n",
    "    guess= int(input(p+' Please guess a number from \"1\" to \"100\": '))\n",
    "    gs_lst.append(guess)\n",
    "    if p=='player_1':\n",
    "        count_p1+=1\n",
    "    else:\n",
    "        count_p2+=1\n",
    "    \n",
    "    if guess<1 or guess >100:\n",
    "        print('OUT OF BOUNDS!')\n",
    "    elif guess == guess_check:\n",
    "        print(p+' you have guessed correctly '+p+' has won, Game Over!!!')\n",
    "        if p == 'player_1':\n",
    "            print(f'Player_1 has guessed {count_p1} times\\nplayer_2 has guessed {count_p2} times')\n",
    "        else:\n",
    "            print('Player_2 has guessed {} times\\nplayer_1 has guessed {} times'.format(count_p2,count_p1))\n",
    " \n",
    "    elif gs_lst[len(gs_lst)-2] > guess_check > guess and guess <=100 and guess>=1 and gs_lst[len(gs_lst)-2]>= 1 and gs_lst[len(gs_lst)-2]<= 100:\n",
    "        if (guess_check - guess) <= (gs_lst[len(gs_lst)-2]-guess_check):\n",
    "            print('Warmer!')\n",
    "        else:\n",
    "            print('Colder!')\n",
    "                \n",
    "    elif guess > guess_check > gs_lst[len(gs_lst)-2] and guess <=100 and guess>=1 and gs_lst[len(gs_lst)-2]>= 1 and gs_lst[len(gs_lst)-2]<= 100:\n",
    "        if (guess - guess_check) <= (guess_check - gs_lst[len(gs_lst)-2]):\n",
    "            print('Warmer!')\n",
    "        else:\n",
    "            print('Colder')\n",
    "    elif guess_check > gs_lst[len(gs_lst)-2] > guess and guess <=100 and guess>=1 and gs_lst[len(gs_lst)-2]>= 1 and gs_lst[len(gs_lst)-2]<= 100:\n",
    "        print('Colder')\n",
    "    elif guess_check > guess >  gs_lst[len(gs_lst)-2] and guess <=100 and guess>=1 and gs_lst[len(gs_lst)-2]>= 1 and gs_lst[len(gs_lst)-2]<= 100:\n",
    "        print('Warmer!')        \n",
    "    elif gs_lst[len(gs_lst)-2] > guess > guess_check and guess <=100 and guess>=1 and gs_lst[len(gs_lst)-2]>= 1 and gs_lst[len(gs_lst)-2]<= 100:\n",
    "        print('Warmer!')    \n",
    "    else:\n",
    "        print('Colder')\n",
    "        \n",
    "            \n",
    "     "
   ]
  },
  {
   "cell_type": "code",
   "execution_count": null,
   "metadata": {},
   "outputs": [],
   "source": [
    "print(f'count_p1+count_p2 {count_p1}')"
   ]
  },
  {
   "cell_type": "code",
   "execution_count": null,
   "metadata": {},
   "outputs": [],
   "source": [
    "type(gs_lst)gs_lst[len(gs_lst)-2]"
   ]
  },
  {
   "cell_type": "code",
   "execution_count": null,
   "metadata": {},
   "outputs": [],
   "source": [
    "guess_check"
   ]
  },
  {
   "cell_type": "code",
   "execution_count": null,
   "metadata": {},
   "outputs": [],
   "source": []
  }
 ],
 "metadata": {
  "kernelspec": {
   "display_name": "Python 3",
   "language": "python",
   "name": "python3"
  },
  "language_info": {
   "codemirror_mode": {
    "name": "ipython",
    "version": 3
   },
   "file_extension": ".py",
   "mimetype": "text/x-python",
   "name": "python",
   "nbconvert_exporter": "python",
   "pygments_lexer": "ipython3",
   "version": "3.7.6"
  }
 },
 "nbformat": 4,
 "nbformat_minor": 4
}
